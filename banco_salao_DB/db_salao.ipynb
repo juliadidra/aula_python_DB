{
 "cells": [
  {
   "attachments": {},
   "cell_type": "markdown",
   "metadata": {},
   "source": [
    "### importando sqlite e criando a conexão com o banco\n"
   ]
  },
  {
   "cell_type": "code",
   "execution_count": 36,
   "metadata": {},
   "outputs": [],
   "source": [
    "import sqlite3\n",
    "\n",
    "conn = sqlite3.connect('banco_salao.db')"
   ]
  },
  {
   "attachments": {},
   "cell_type": "markdown",
   "metadata": {},
   "source": [
    "### criando tabelas e estabelecendo conexao com o banco\n"
   ]
  },
  {
   "cell_type": "code",
   "execution_count": 37,
   "metadata": {},
   "outputs": [],
   "source": [
    "table_cliente = \"\"\"\n",
    "create table if not exists cliente (\n",
    "id_cliente INTEGER PRIMARY KEY AUTOINCREMENT,\n",
    "nome_cliente VARCHAR(40) NOT NULL,\n",
    "telefone_cliente VARCHAR(20) NOT NULL,\n",
    "email_cliente VARCHAR(50) NOT NULL\n",
    ");\n",
    "\"\"\"\n",
    "conn.execute(table_cliente)\n",
    "conn.commit()\n"
   ]
  },
  {
   "cell_type": "code",
   "execution_count": 38,
   "metadata": {},
   "outputs": [],
   "source": [
    "create_table_produto = \"\"\"\n",
    "CREATE TABLE IF NOT EXISTS produto (\n",
    "id_produto INTEGER PRIMARY KEY AUTOINCREMENT,\n",
    "nome_produto VARCHAR(50) NOT NULL,\n",
    "descricao_produto VARCHAR(100),\n",
    "preco_produto DECIMAL(10,2) NOT NULL\n",
    ");\n",
    "\"\"\"\n",
    "conn.execute(create_table_produto)\n",
    "conn.commit()\n"
   ]
  },
  {
   "cell_type": "code",
   "execution_count": 39,
   "metadata": {},
   "outputs": [],
   "source": [
    "create_table_servico = \"\"\"\n",
    "CREATE TABLE IF NOT EXISTS servico (\n",
    "id_servico INTEGER PRIMARY KEY AUTOINCREMENT,\n",
    "nome_servico VARCHAR(50) NOT NULL,\n",
    "descricao_servico VARCHAR(100),\n",
    "preco_servico DECIMAL(10,2) NOT NULL\n",
    ");\n",
    "\"\"\"\n",
    "conn.execute(create_table_servico)\n",
    "conn.commit()\n"
   ]
  },
  {
   "cell_type": "code",
   "execution_count": 40,
   "metadata": {},
   "outputs": [],
   "source": [
    "\n",
    "create_table_agendamento_servico = \"\"\"\n",
    "CREATE TABLE IF NOT EXISTS agendamento_servico (\n",
    "id_agendamento INTEGER PRIMARY KEY AUTOINCREMENT,\n",
    "id_cliente INTEGER NOT NULL,\n",
    "id_servico INTEGER NOT NULL,\n",
    "dia_agendamento DATE NOT NULL,\n",
    "hora_agendamento TIME NOT NULL,\n",
    "status_agendamento VARCHAR(10) NOT NULL,\n",
    " FOREIGN KEY (id_cliente) REFERENCES cliente (id_cliente),\n",
    " FOREIGN KEY (id_servico) REFERENCES servico (id_servico)\n",
    ");\n",
    "\"\"\"\n",
    "conn.execute(create_table_agendamento_servico)\n",
    "conn.commit()\n"
   ]
  },
  {
   "cell_type": "code",
   "execution_count": 41,
   "metadata": {},
   "outputs": [],
   "source": [
    "create_table_pagar_servico = \"\"\"\n",
    "create table if not exists pagar_servico (\n",
    "id_pagamento_servico integer primary key autoincrement,\n",
    "id_servico integer not null,\n",
    "id_cliente integer not null,\n",
    "forma_pagamento VARCHAR(20) not null,\n",
    "foreign key (id_servico) references servico (id_servico),\n",
    "foreign key (id_cliente) references cliente (id_cliente)\n",
    ");\n",
    "\"\"\"\n",
    "conn.execute(create_table_pagar_servico)\n",
    "conn.commit()\n"
   ]
  },
  {
   "cell_type": "code",
   "execution_count": 42,
   "metadata": {},
   "outputs": [],
   "source": [
    "create_table_pagar_produto = \"\"\"\n",
    "create table if not exists pagar_produto (\n",
    "id_pagamento_produto integer primary key autoincrement,\n",
    "id_produto integer not null,\n",
    "id_cliente integer not null,\n",
    "forma_pagamento VARCHAR(20) not null,\n",
    "foreign key (id_produto) references produto (id_produto),\n",
    "foreign key (id_cliente) references cliente (id_cliente)\n",
    ");\n",
    "\"\"\"\n",
    "conn.execute(create_table_pagar_produto)\n",
    "conn.commit()\n"
   ]
  },
  {
   "attachments": {},
   "cell_type": "markdown",
   "metadata": {},
   "source": [
    "### criando listas dos dados e inserindo nas tabelas (populando banco)\n"
   ]
  },
  {
   "cell_type": "code",
   "execution_count": 43,
   "metadata": {},
   "outputs": [],
   "source": [
    "lista_clientes = [\n",
    "('julia didra', '98546184', 'juliadidra22@gmail.com'),\n",
    "('wilza minhaque', '86986526', 'wilzaminhaque@gmail.com'),\n",
    "('alessandra raissa', '997317744', 'alessandra@gmail.com'),\n",
    "('joao pedro', '984562436', 'joaopedroe@gmail.com'),\n",
    "('giliandra costa', '97845326', 'gicosta@gmail.com'),\n",
    "('maria do carmo', '985426590', 'mcarmen@gmail.com'),\n",
    "('alexandro bezerra', '978589623', 'alexbezerra@gmail.com'),\n",
    "('daniela diniz', '32519403', 'danidiniz@gmail.com'),\n",
    "('kamille isabel', '95169746', 'kism@gmail.com'),\n",
    "('bernardo braga', '921357946', 'bernabraga@gmail.com')\n",
    "]\n",
    "\n",
    "cursor = conn.cursor()\n",
    "cursor.executemany(\"\"\"\n",
    "    INSERT INTO cliente (nome_cliente, telefone_cliente, email_cliente)\n",
    "    VALUES (?,?,?)\n",
    "\"\"\", lista_clientes)\n",
    "\n",
    "conn.commit()\n"
   ]
  },
  {
   "cell_type": "code",
   "execution_count": 44,
   "metadata": {},
   "outputs": [],
   "source": [
    "lista_servicos = [\n",
    "('Corte masculino', 'Corte para homens', 35.00),\n",
    "('Corte feminino', 'Corte de cabelo estilizado para mulheres', 45.00),\n",
    "('Coloração de cabelo', 'tintura completa', 80.00),\n",
    "('hidratação wella', 'hidratação flex wella', 70.00),\n",
    "('escova', 'escova cabelo longo', 50.00),\n",
    "('Pedicure', 'Cuidado e esmaltação dos pés', 30.00),\n",
    "('Design de sobrancelhas', 'Modelagem e correção das sobrancelhas', 20.00),\n",
    "('realinhamento tecnico', 'progressiva fit, cabelo p', 100.00),\n",
    "('botox capilar', 'botox fit, cabelo p', 80.00),\n",
    "('morena iluminada', 'mechas em cabelo M', 300.00)\n",
    "]\n",
    "\n",
    "cursor = conn.cursor()\n",
    "cursor.executemany(\"\"\" \n",
    "    INSERT into servico ( nome_servico, descricao_servico, preco_servico)\n",
    "    VALUES (?,?,?)\n",
    "\"\"\", lista_servicos)\n",
    "\n",
    "conn.commit()\n"
   ]
  },
  {
   "cell_type": "code",
   "execution_count": 45,
   "metadata": {},
   "outputs": [],
   "source": [
    "lista_produtos = [\n",
    "('Shampoo', 'Shampoo wella', 129.99),\n",
    "('Condicionador', 'Condicionador wella', 129.99),\n",
    "('Máscara capilar', 'Máscara de tratamento fit', 100.00),\n",
    "('kit tratamento', 'kit fit', 79.99),\n",
    "('pulseira pandora', 'pulseira pandora versão cor verde', 159.99),\n",
    "('brinco coração', 'brinco prata coração em zirconias', 79.99),\n",
    "('anel coração', 'anel coração prata', 59.99),\n",
    "('Óleo corporal', 'Óleo hidratante natura', 50.00),\n",
    "('Creme facial', 'Creme hidratante para o rosto boticario', 70.00),\n",
    "('Loção corporal', 'Loção hidratante para o corpo boticario', 90.00)\n",
    "]\n",
    "\n",
    "cursor = conn.cursor()\n",
    "cursor.executemany(\"\"\" \n",
    "    INSERT into produto ( nome_produto, descricao_produto, preco_produto)\n",
    "    VALUES (?,?,?)\n",
    "\"\"\", lista_produtos)\n",
    "\n",
    "conn.commit()\n"
   ]
  },
  {
   "cell_type": "code",
   "execution_count": 46,
   "metadata": {},
   "outputs": [],
   "source": [
    "lista_agendamento = [\n",
    "(1, 1, '2023-05-14', '09:00:00', 'Agendado'),\n",
    "(2, 3, '2023-05-15', '14:30:00', 'Cancelado'),\n",
    "(3, 2, '2023-05-16', '11:00:00', 'Agendado'),\n",
    "(4, 1, '2023-05-17', '10:30:00', 'Agendado'),\n",
    "(5, 2, '2023-05-18', '15:00:00', 'Pendente'),\n",
    "(6, 1, '2023-05-19', '13:30:00', 'Agendado'),\n",
    "(7, 3, '2023-05-20', '16:00:00', 'Agendado'),\n",
    "(8, 2, '2023-05-21', '11:30:00', 'Cancelado'),\n",
    "(9, 1, '2023-05-22', '14:00:00', 'Agendado'),\n",
    "(10, 3, '2023-05-23', '12:00:00', 'Agendado')\n",
    "]\n",
    "\n",
    "cursor = conn.cursor()\n",
    "cursor.executemany(\"\"\" \n",
    "    INSERT into agendamento_servico ( id_cliente, id_servico, dia_agendamento, hora_agendamento, status_agendamento)\n",
    "    VALUES (?,?,?,?,?)\n",
    "\"\"\", lista_agendamento)\n",
    "\n",
    "conn.commit()\n"
   ]
  },
  {
   "cell_type": "code",
   "execution_count": 47,
   "metadata": {},
   "outputs": [],
   "source": [
    "lista_pagar_servico = [\n",
    "(1, 1, 'Cartão Crédito'),\n",
    "(2, 3, 'Dinheiro'),\n",
    "(3, 2, 'Cartão Débito'),\n",
    "(2, 4, 'Dinheiro'),\n",
    "(1, 5, 'Cartão Crédito'),\n",
    "(3, 6, 'Pix'),\n",
    "(1, 7, 'Pix'),\n",
    "(2, 8, 'Cartão Crédito'),\n",
    "(3, 9, 'Pix'),\n",
    "(1, 10, 'Cartão Débito')\n",
    "]\n",
    "\n",
    "cursor = conn.cursor()\n",
    "cursor.executemany(\"\"\" \n",
    "    INSERT into pagar_servico ( id_servico, id_cliente, forma_pagamento)\n",
    "    VALUES (?,?,?)\n",
    "\"\"\", lista_pagar_servico)\n",
    "\n",
    "conn.commit()\n"
   ]
  },
  {
   "cell_type": "code",
   "execution_count": 48,
   "metadata": {},
   "outputs": [],
   "source": [
    "lista_pagar_produto = [\n",
    "(1, 1, 'Cartão Crédito'),\n",
    "(3, 3, 'Pix'),\n",
    "(2, 2, 'Cartão Débito'),\n",
    "(3, 4, 'Pix'),\n",
    "(1, 5, 'Cartão Crédito'),\n",
    "(2, 6, 'Cartão Crédito'),\n",
    "(3, 7, 'Dinheiro'),\n",
    "(1, 8, 'Pix'),\n",
    "(2, 9, 'Dinheiro'),\n",
    "(3, 10, 'Cartão Débito')\n",
    "]\n",
    "\n",
    "cursor = conn.cursor()\n",
    "cursor.executemany(\"\"\" \n",
    "    INSERT into pagar_produto ( id_produto, id_cliente, forma_pagamento)\n",
    "    VALUES (?,?,?)\n",
    "\"\"\", lista_pagar_produto)\n",
    "\n",
    "conn.commit()\n"
   ]
  },
  {
   "attachments": {},
   "cell_type": "markdown",
   "metadata": {},
   "source": [
    "## joins"
   ]
  },
  {
   "cell_type": "code",
   "execution_count": 49,
   "metadata": {},
   "outputs": [],
   "source": [
    "import pandas as pd\n",
    "\n",
    "\n",
    "\n"
   ]
  },
  {
   "attachments": {},
   "cell_type": "markdown",
   "metadata": {},
   "source": [
    "#### consulta da tabela de pagamento de serviço incluindo o nome do cliente e o serviço escolhido"
   ]
  },
  {
   "cell_type": "code",
   "execution_count": 50,
   "metadata": {},
   "outputs": [
    {
     "name": "stdout",
     "output_type": "stream",
     "text": [
      "   id_pagamento_servico  id_servico  id_cliente forma_pagamento   \n",
      "0                     1           1           1  Cartão Crédito  \\\n",
      "1                     2           2           3        Dinheiro   \n",
      "2                     3           3           2   Cartão Débito   \n",
      "3                     4           2           4        Dinheiro   \n",
      "4                     5           1           5  Cartão Crédito   \n",
      "5                     6           3           6             Pix   \n",
      "6                     7           1           7             Pix   \n",
      "7                     8           2           8  Cartão Crédito   \n",
      "8                     9           3           9             Pix   \n",
      "9                    10           1          10   Cartão Débito   \n",
      "\n",
      "        nome_cliente         nome_servico  \n",
      "0        julia didra      Corte masculino  \n",
      "1  alessandra raissa       Corte feminino  \n",
      "2     wilza minhaque  Coloração de cabelo  \n",
      "3         joao pedro       Corte feminino  \n",
      "4    giliandra costa      Corte masculino  \n",
      "5     maria do carmo  Coloração de cabelo  \n",
      "6  alexandro bezerra      Corte masculino  \n",
      "7      daniela diniz       Corte feminino  \n",
      "8     kamille isabel  Coloração de cabelo  \n",
      "9     bernardo braga      Corte masculino  \n"
     ]
    }
   ],
   "source": [
    "query_pagamento_servico = \"\"\"\n",
    "SELECT pagar_servico.*, cliente.nome_cliente, servico.nome_servico\n",
    "FROM pagar_servico\n",
    "JOIN cliente ON pagar_servico.id_cliente = cliente.id_cliente\n",
    "JOIN servico ON pagar_servico.id_servico = servico.id_servico;\n",
    "\"\"\"\n",
    "df = pd.read_sql_query(query_pagamento_servico, conn)\n",
    "print(df)\n",
    "conn.commit()\n"
   ]
  },
  {
   "attachments": {},
   "cell_type": "markdown",
   "metadata": {},
   "source": [
    "#### Consulta de todos os agendamentos de serviço, incluindo informações do cliente e do serviço agendado"
   ]
  },
  {
   "cell_type": "code",
   "execution_count": 51,
   "metadata": {},
   "outputs": [
    {
     "name": "stdout",
     "output_type": "stream",
     "text": [
      "        nome_cliente  total_agendamentos\n",
      "0        julia didra                   1\n",
      "1     wilza minhaque                   1\n",
      "2  alessandra raissa                   1\n",
      "3         joao pedro                   1\n",
      "4    giliandra costa                   1\n",
      "5     maria do carmo                   1\n",
      "6  alexandro bezerra                   1\n",
      "7      daniela diniz                   1\n",
      "8     kamille isabel                   1\n",
      "9     bernardo braga                   1\n"
     ]
    }
   ],
   "source": [
    "query_qnt_agendamento = \"\"\"SELECT cliente.nome_cliente, COUNT(agendamento_servico.id_agendamento) AS total_agendamentos\n",
    "FROM cliente\n",
    "LEFT JOIN agendamento_servico ON cliente.id_cliente = agendamento_servico.id_cliente\n",
    "GROUP BY cliente.id_cliente;\"\"\"\n",
    "\n",
    "df = pd.read_sql_query(query_qnt_agendamento, conn)\n",
    "print(df)\n",
    "conn.commit()\n",
    "\n"
   ]
  },
  {
   "attachments": {},
   "cell_type": "markdown",
   "metadata": {},
   "source": [
    "#### Consulta de todos os pagamentos de produtos, incluindo informações do cliente e do produto pago"
   ]
  },
  {
   "cell_type": "code",
   "execution_count": 52,
   "metadata": {},
   "outputs": [
    {
     "name": "stdout",
     "output_type": "stream",
     "text": [
      "   id_pagamento_produto       nome_cliente     nome_produto forma_pagamento\n",
      "0                     1        julia didra          Shampoo  Cartão Crédito\n",
      "1                     2  alessandra raissa  Máscara capilar             Pix\n",
      "2                     3     wilza minhaque    Condicionador   Cartão Débito\n",
      "3                     4         joao pedro  Máscara capilar             Pix\n",
      "4                     5    giliandra costa          Shampoo  Cartão Crédito\n",
      "5                     6     maria do carmo    Condicionador  Cartão Crédito\n",
      "6                     7  alexandro bezerra  Máscara capilar        Dinheiro\n",
      "7                     8      daniela diniz          Shampoo             Pix\n",
      "8                     9     kamille isabel    Condicionador        Dinheiro\n",
      "9                    10     bernardo braga  Máscara capilar   Cartão Débito\n"
     ]
    }
   ],
   "source": [
    "query_pagamento_produto = \"\"\"SELECT pagar_produto.id_pagamento_produto, cliente.nome_cliente, produto.nome_produto, pagar_produto.forma_pagamento\n",
    "FROM pagar_produto\n",
    "JOIN cliente ON pagar_produto.id_cliente = cliente.id_cliente\n",
    "JOIN produto ON pagar_produto.id_produto = produto.id_produto;\"\"\"\n",
    "\n",
    "df = pd.read_sql_query(query_pagamento_produto, conn)\n",
    "print(df)\n",
    "conn.commit()\n",
    "conn.close()\n"
   ]
  }
 ],
 "metadata": {
  "kernelspec": {
   "display_name": "Python 3",
   "language": "python",
   "name": "python3"
  },
  "language_info": {
   "codemirror_mode": {
    "name": "ipython",
    "version": 3
   },
   "file_extension": ".py",
   "mimetype": "text/x-python",
   "name": "python",
   "nbconvert_exporter": "python",
   "pygments_lexer": "ipython3",
   "version": "3.10.4"
  },
  "orig_nbformat": 4
 },
 "nbformat": 4,
 "nbformat_minor": 2
}
